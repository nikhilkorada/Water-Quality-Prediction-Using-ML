{
 "cells": [
  {
   "cell_type": "code",
   "execution_count": 10,
   "id": "63052e2e-09db-441d-96ee-67a1adb144d4",
   "metadata": {},
   "outputs": [],
   "source": [
    "import pandas as pd\n",
    "import matplotlib.pyplot as plt\n",
    "import numpy as np"
   ]
  },
  {
   "cell_type": "code",
   "execution_count": 24,
   "id": "8f8fb206-7404-4af7-9acf-43c6f2568e63",
   "metadata": {},
   "outputs": [],
   "source": [
    "dataset = pd.read_csv('water_potability_preprocessed.csv')\n",
    "X = dataset.iloc[:, :-1].values\n",
    "y = dataset.iloc[:, -1].values"
   ]
  },
  {
   "cell_type": "code",
   "execution_count": 25,
   "id": "87cd43ae-ed86-40a4-9321-af474b9df5d2",
   "metadata": {},
   "outputs": [],
   "source": [
    "import pandas as pd\n",
    "import matplotlib.pyplot as plt\n",
    "import numpy as np\n",
    "from sklearn.model_selection import train_test_split\n",
    "from sklearn.preprocessing import StandardScaler\n",
    "from sklearn.tree import DecisionTreeClassifier\n",
    "from sklearn.ensemble import RandomForestClassifier\n",
    "from sklearn.neural_network import MLPClassifier\n",
    "from sklearn.metrics import accuracy_score\n"
   ]
  },
  {
   "cell_type": "code",
   "execution_count": 26,
   "id": "58b2e794-a25a-4b8c-85f5-ff1cafe28323",
   "metadata": {},
   "outputs": [],
   "source": [
    "X_train, X_test, y_train, y_test = train_test_split(X, y, test_size=0.2, random_state=0)\n",
    "\n",
    "# Feature Scaling\n",
    "sc = StandardScaler()\n",
    "X_train = sc.fit_transform(X_train)\n",
    "X_test = sc.transform(X_test)\n"
   ]
  },
  {
   "cell_type": "markdown",
   "id": "a76c1165-bb93-4d27-985b-119052c337f3",
   "metadata": {},
   "source": [
    "# Decision Tree"
   ]
  },
  {
   "cell_type": "code",
   "execution_count": 27,
   "id": "6ce04261-5e94-4f22-86c4-d29dc1206dd0",
   "metadata": {},
   "outputs": [
    {
     "name": "stdout",
     "output_type": "stream",
     "text": [
      "Decision Tree Accuracy: 0.600609756097561\n"
     ]
    }
   ],
   "source": [
    "# Decision Tree\n",
    "dt_classifier = DecisionTreeClassifier(criterion='entropy', random_state=0)\n",
    "dt_classifier.fit(X_train, y_train)\n",
    "dt_y_pred = dt_classifier.predict(X_test)\n",
    "dt_accuracy = accuracy_score(y_test, dt_y_pred)\n",
    "print(f\"Decision Tree Accuracy: {dt_accuracy}\")\n"
   ]
  },
  {
   "cell_type": "markdown",
   "id": "91deb89d-956c-41b0-8e4d-4a605a5b65e7",
   "metadata": {},
   "source": [
    "# Random Forest"
   ]
  },
  {
   "cell_type": "code",
   "execution_count": 28,
   "id": "ceb5065e-6ebf-4cca-92d8-67a1ad35ebfb",
   "metadata": {},
   "outputs": [
    {
     "name": "stdout",
     "output_type": "stream",
     "text": [
      "\n",
      "Random Forest Accuracy: 0.6661585365853658\n"
     ]
    }
   ],
   "source": [
    "# Random Forest\n",
    "rf_classifier = RandomForestClassifier(n_estimators=10, criterion='entropy', random_state=0)\n",
    "rf_classifier.fit(X_train, y_train)\n",
    "rf_y_pred = rf_classifier.predict(X_test)\n",
    "rf_accuracy = accuracy_score(y_test, rf_y_pred)\n",
    "print(f\"\\nRandom Forest Accuracy: {rf_accuracy}\")"
   ]
  },
  {
   "cell_type": "markdown",
   "id": "b72f588b-9258-4b80-b595-5c16b5ada40e",
   "metadata": {},
   "source": [
    "# Artificial Neural Network"
   ]
  },
  {
   "cell_type": "code",
   "execution_count": 29,
   "id": "a65a8285-38cf-4638-a843-629a1a4d10ff",
   "metadata": {},
   "outputs": [],
   "source": [
    "# Artificial Neural Network (MLP)\n",
    "from sklearn.neural_network import MLPClassifier, MLPRegressor\n",
    "ann_classifier = MLPClassifier(hidden_layer_sizes=(10, 10), activation='relu', solver='adam', random_state=0)\n",
    "# Change to a regressor for continuous target variables\n",
    "ann_classifier = MLPRegressor(hidden_layer_sizes=(10, 10), activation='relu', solver='adam', random_state=0)\n",
    "ann_classifier = MLPRegressor(hidden_layer_sizes=(10, 10), activation='relu', solver='sgd', random_state=0)\n",
    "\n"
   ]
  },
  {
   "cell_type": "code",
   "execution_count": 30,
   "id": "a32d1a44-17db-4f03-9e98-62e0eef17cd8",
   "metadata": {},
   "outputs": [
    {
     "name": "stdout",
     "output_type": "stream",
     "text": [
      "\n",
      "Artificial Neural Network Accuracy: 0.6128048780487805\n"
     ]
    },
    {
     "name": "stderr",
     "output_type": "stream",
     "text": [
      "C:\\Users\\nikhil\\AppData\\Local\\Programs\\Python\\Python312\\Lib\\site-packages\\sklearn\\neural_network\\_multilayer_perceptron.py:690: ConvergenceWarning: Stochastic Optimizer: Maximum iterations (500) reached and the optimization hasn't converged yet.\n",
      "  warnings.warn(\n"
     ]
    }
   ],
   "source": [
    "# Artificial Neural Network (MLP Classifier)\n",
    "ann_classifier = MLPClassifier(hidden_layer_sizes=(100, 50), activation='relu', solver='adam', max_iter=500, random_state=0)\n",
    "ann_classifier.fit(X_train, y_train)\n",
    "ann_y_pred = ann_classifier.predict(X_test)\n",
    "ann_accuracy = accuracy_score(y_test, ann_y_pred)\n",
    "print(f\"\\nArtificial Neural Network Accuracy: {ann_accuracy}\")"
   ]
  },
  {
   "cell_type": "markdown",
   "id": "8d5463be-08e5-4a2d-9a65-62a05f4284f7",
   "metadata": {},
   "source": [
    "# Accuracy Plot"
   ]
  },
  {
   "cell_type": "code",
   "execution_count": 31,
   "id": "7de7cf19-1f36-4457-92a5-0c325be776f5",
   "metadata": {},
   "outputs": [
    {
     "data": {
      "image/png": "[encoded data removed]",
      "text/plain": [
       "<Figure size 800x600 with 1 Axes>"
      ]
     },
     "metadata": {},
     "output_type": "display_data"
    }
   ],
   "source": [
    "import matplotlib.pyplot as plt\n",
    "\n",
    "models = ['Decision Tree', 'Random Forest', 'ANN']\n",
    "accuracies = [dt_accuracy, rf_accuracy, ann_accuracy]\n",
    "\n",
    "plt.figure(figsize=(8, 6))\n",
    "plt.bar(models, accuracies, color=['skyblue', 'lightgreen', 'lightcoral'])\n",
    "plt.xlabel(\"Models\")\n",
    "plt.ylabel(\"Accuracy\")\n",
    "plt.title(\"Model Comparison\")\n",
    "plt.ylim(0, 1)  # Set y-axis limit to 0-1 for accuracy\n",
    "plt.show()"
   ]
  },
  {
   "cell_type": "code",
   "execution_count": null,
   "id": "c2d1c411-f331-4f32-91b5-4f993e42c0cf",
   "metadata": {},
   "outputs": [],
   "source": []
  }
 ],
 "metadata": {
  "kernelspec": {
   "display_name": "Python 3 (ipykernel)",
   "language": "python",
   "name": "python3"
  },
  "language_info": {
   "codemirror_mode": {
    "name": "ipython",
    "version": 3
   },
   "file_extension": ".py",
   "mimetype": "text/x-python",
   "name": "python",
   "nbconvert_exporter": "python",
   "pygments_lexer": "ipython3",
   "version": "3.12.4"
  }
 },
 "nbformat": 4,
 "nbformat_minor": 5
}
